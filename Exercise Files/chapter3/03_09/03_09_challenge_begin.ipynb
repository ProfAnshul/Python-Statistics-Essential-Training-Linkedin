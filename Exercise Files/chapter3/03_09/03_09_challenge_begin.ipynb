{
 "cells": [
  {
   "cell_type": "markdown",
   "metadata": {},
   "source": [
    "## Python statistics essential training - 03_09_challenge"
   ]
  },
  {
   "cell_type": "markdown",
   "metadata": {},
   "source": [
    "Standard imports"
   ]
  },
  {
   "cell_type": "code",
   "execution_count": 1,
   "metadata": {},
   "outputs": [],
   "source": [
    "import numpy as np\n",
    "import scipy.stats\n",
    "import pandas as pd"
   ]
  },
  {
   "cell_type": "code",
   "execution_count": 2,
   "metadata": {},
   "outputs": [],
   "source": [
    "import matplotlib\n",
    "import matplotlib.pyplot as pp\n",
    "\n",
    "import pandas.plotting\n",
    "\n",
    "from IPython import display\n",
    "from ipywidgets import interact, widgets\n",
    "\n",
    "%matplotlib inline"
   ]
  },
  {
   "cell_type": "code",
   "execution_count": 3,
   "metadata": {},
   "outputs": [],
   "source": [
    "import re\n",
    "import mailbox\n",
    "import csv"
   ]
  },
  {
   "cell_type": "code",
   "execution_count": 4,
   "metadata": {},
   "outputs": [],
   "source": [
    "messages = pd.read_csv('mbox-cleaned.csv')"
   ]
  },
  {
   "cell_type": "code",
   "execution_count": 10,
   "metadata": {},
   "outputs": [
    {
     "data": {
      "text/plain": [
       "Timestamp('2017-11-27 14:18:46-0800', tz='America/Los_Angeles')"
      ]
     },
     "execution_count": 10,
     "metadata": {},
     "output_type": "execute_result"
    }
   ],
   "source": [
    "messages.date[0]"
   ]
  },
  {
   "cell_type": "code",
   "execution_count": 8,
   "metadata": {},
   "outputs": [],
   "source": [
    "messages['date'] = messages['date'].apply(lambda s: pd.to_datetime(s).tz_convert('America/Los_Angeles'))"
   ]
  },
  {
   "cell_type": "code",
   "execution_count": 11,
   "metadata": {},
   "outputs": [],
   "source": [
    "messages['dayofweek'] = pd.Categorical(messages['dayofweek'],\n",
    "                                       ordered = True,\n",
    "                                       categories = [\"Monday\",\"Tuesday\",\"Wednesday\",\"Thursday\",\"Friday\",\"Saturday\",\"Sunday\"])"
   ]
  },
  {
   "cell_type": "code",
   "execution_count": 42,
   "metadata": {},
   "outputs": [
    {
     "data": {
      "text/plain": [
       "Monday       222\n",
       "Tuesday      220\n",
       "Wednesday    211\n",
       "Thursday     172\n",
       "Friday       140\n",
       "Sunday        33\n",
       "Saturday      32\n",
       "Name: dayofweek, dtype: int64"
      ]
     },
     "execution_count": 42,
     "metadata": {},
     "output_type": "execute_result"
    }
   ],
   "source": [
    "messages.dayofweek.value_counts()"
   ]
  },
  {
   "cell_type": "code",
   "execution_count": 37,
   "metadata": {},
   "outputs": [
    {
     "data": {
      "text/plain": [
       "1030"
      ]
     },
     "execution_count": 37,
     "metadata": {},
     "output_type": "execute_result"
    }
   ],
   "source": [
    "messages['from'].shape[0]"
   ]
  },
  {
   "cell_type": "code",
   "execution_count": 33,
   "metadata": {},
   "outputs": [
    {
     "data": {
      "text/plain": [
       "1029"
      ]
     },
     "execution_count": 33,
     "metadata": {},
     "output_type": "execute_result"
    }
   ],
   "source": [
    "messages['from'].count()"
   ]
  },
  {
   "cell_type": "code",
   "execution_count": 35,
   "metadata": {},
   "outputs": [
    {
     "data": {
      "text/plain": [
       "False    1029\n",
       "True        1\n",
       "Name: from, dtype: int64"
      ]
     },
     "execution_count": 35,
     "metadata": {},
     "output_type": "execute_result"
    }
   ],
   "source": [
    "messages['from'].isna().value_counts()"
   ]
  },
  {
   "cell_type": "code",
   "execution_count": 20,
   "metadata": {},
   "outputs": [
    {
     "data": {
      "text/plain": [
       "Index(['subject', 'from', 'to', 'date', 'dayofweek', 'timeofday', 'nyear'], dtype='object')"
      ]
     },
     "execution_count": 20,
     "metadata": {},
     "output_type": "execute_result"
    }
   ],
   "source": [
    "messages.columns"
   ]
  },
  {
   "cell_type": "code",
   "execution_count": 43,
   "metadata": {},
   "outputs": [
    {
     "data": {
      "text/html": [
       "<div>\n",
       "<style scoped>\n",
       "    .dataframe tbody tr th:only-of-type {\n",
       "        vertical-align: middle;\n",
       "    }\n",
       "\n",
       "    .dataframe tbody tr th {\n",
       "        vertical-align: top;\n",
       "    }\n",
       "\n",
       "    .dataframe thead th {\n",
       "        text-align: right;\n",
       "    }\n",
       "</style>\n",
       "<table border=\"1\" class=\"dataframe\">\n",
       "  <thead>\n",
       "    <tr style=\"text-align: right;\">\n",
       "      <th></th>\n",
       "      <th>subject</th>\n",
       "      <th>from</th>\n",
       "      <th>to</th>\n",
       "      <th>date</th>\n",
       "      <th>dayofweek</th>\n",
       "      <th>timeofday</th>\n",
       "      <th>nyear</th>\n",
       "    </tr>\n",
       "  </thead>\n",
       "  <tbody>\n",
       "    <tr>\n",
       "      <td>824</td>\n",
       "      <td>Daughter service movie play.</td>\n",
       "      <td>\"Vallisneri, Michele (335S)\" &lt;michele.vallisne...</td>\n",
       "      <td>Patricia Jimenez &lt;hwilson@page-gay.biz&gt;</td>\n",
       "      <td>2018-04-30 08:54:56-07:00</td>\n",
       "      <td>Monday</td>\n",
       "      <td>8.900000</td>\n",
       "      <td>2018.329557</td>\n",
       "    </tr>\n",
       "    <tr>\n",
       "      <td>342</td>\n",
       "      <td>Apply foot sometimes leg market out unit.</td>\n",
       "      <td>\"Vallisneri, Michele (335S)\" &lt;michele.vallisne...</td>\n",
       "      <td>\"Samuel Little\" &lt;erika67@gmail.com&gt;</td>\n",
       "      <td>2018-02-26 18:06:57-08:00</td>\n",
       "      <td>Monday</td>\n",
       "      <td>18.100000</td>\n",
       "      <td>2018.158122</td>\n",
       "    </tr>\n",
       "    <tr>\n",
       "      <td>397</td>\n",
       "      <td>Feeling might enough key.</td>\n",
       "      <td>Michele Vallisneri &lt;michele.vallisneri@jpl.nas...</td>\n",
       "      <td>\"Michele Gordon\" &lt;edwardsamanda@newman-mack.biz&gt;</td>\n",
       "      <td>2017-07-28 13:30:26-07:00</td>\n",
       "      <td>Friday</td>\n",
       "      <td>13.500000</td>\n",
       "      <td>2017.573751</td>\n",
       "    </tr>\n",
       "    <tr>\n",
       "      <td>436</td>\n",
       "      <td>Must whole write occur ability.</td>\n",
       "      <td>\"Vallisneri, Michele (335S)\" &lt;Michele.Vallisne...</td>\n",
       "      <td>\"Christopher Hernandez\" &lt;robertschristopher@gm...</td>\n",
       "      <td>2017-10-04 11:05:13-07:00</td>\n",
       "      <td>Wednesday</td>\n",
       "      <td>11.083333</td>\n",
       "      <td>2017.759649</td>\n",
       "    </tr>\n",
       "    <tr>\n",
       "      <td>518</td>\n",
       "      <td>Line ok spring improve challenge look.</td>\n",
       "      <td>\"Vallisneri, Michele (335S)\" &lt;Michele.Vallisne...</td>\n",
       "      <td>\"David Morrison\" &lt;wendyrussell@yahoo.com&gt;</td>\n",
       "      <td>2017-08-07 16:50:14-07:00</td>\n",
       "      <td>Monday</td>\n",
       "      <td>16.833333</td>\n",
       "      <td>2017.601510</td>\n",
       "    </tr>\n",
       "  </tbody>\n",
       "</table>\n",
       "</div>"
      ],
      "text/plain": [
       "                                       subject  \\\n",
       "824               Daughter service movie play.   \n",
       "342  Apply foot sometimes leg market out unit.   \n",
       "397                  Feeling might enough key.   \n",
       "436            Must whole write occur ability.   \n",
       "518     Line ok spring improve challenge look.   \n",
       "\n",
       "                                                  from  \\\n",
       "824  \"Vallisneri, Michele (335S)\" <michele.vallisne...   \n",
       "342  \"Vallisneri, Michele (335S)\" <michele.vallisne...   \n",
       "397  Michele Vallisneri <michele.vallisneri@jpl.nas...   \n",
       "436  \"Vallisneri, Michele (335S)\" <Michele.Vallisne...   \n",
       "518  \"Vallisneri, Michele (335S)\" <Michele.Vallisne...   \n",
       "\n",
       "                                                    to  \\\n",
       "824            Patricia Jimenez <hwilson@page-gay.biz>   \n",
       "342                \"Samuel Little\" <erika67@gmail.com>   \n",
       "397   \"Michele Gordon\" <edwardsamanda@newman-mack.biz>   \n",
       "436  \"Christopher Hernandez\" <robertschristopher@gm...   \n",
       "518          \"David Morrison\" <wendyrussell@yahoo.com>   \n",
       "\n",
       "                         date  dayofweek  timeofday        nyear  \n",
       "824 2018-04-30 08:54:56-07:00     Monday   8.900000  2018.329557  \n",
       "342 2018-02-26 18:06:57-08:00     Monday  18.100000  2018.158122  \n",
       "397 2017-07-28 13:30:26-07:00     Friday  13.500000  2017.573751  \n",
       "436 2017-10-04 11:05:13-07:00  Wednesday  11.083333  2017.759649  \n",
       "518 2017-08-07 16:50:14-07:00     Monday  16.833333  2017.601510  "
      ]
     },
     "execution_count": 43,
     "metadata": {},
     "output_type": "execute_result"
    }
   ],
   "source": [
    "messages.sample(5)"
   ]
  },
  {
   "cell_type": "code",
   "execution_count": 87,
   "metadata": {},
   "outputs": [],
   "source": [
    "t = messages.groupby('dayofweek').timeofday"
   ]
  },
  {
   "cell_type": "code",
   "execution_count": 115,
   "metadata": {},
   "outputs": [
    {
     "data": {
      "text/plain": [
       "'Tuesday'"
      ]
     },
     "execution_count": 115,
     "metadata": {},
     "output_type": "execute_result"
    }
   ],
   "source": [
    "t1 = messages.dayofweek.unique()\n",
    "t1[1]"
   ]
  },
  {
   "cell_type": "code",
   "execution_count": 106,
   "metadata": {},
   "outputs": [
    {
     "data": {
      "text/plain": [
       "str"
      ]
     },
     "execution_count": 106,
     "metadata": {},
     "output_type": "execute_result"
    }
   ],
   "source": [
    "type(messages.dayofweek[0])"
   ]
  },
  {
   "cell_type": "code",
   "execution_count": 117,
   "metadata": {
    "scrolled": false
   },
   "outputs": [
    {
     "data": {
      "image/png": "[encoded data removed]",
      "text/plain": [
       "<Figure size 432x288 with 1 Axes>"
      ]
     },
     "metadata": {
      "needs_background": "light"
     },
     "output_type": "display_data"
    }
   ],
   "source": [
    "t.plot(kind='density')\n",
    "\n",
    "pp.legend(t1)\n",
    "\n",
    "pp.show()"
   ]
  },
  {
   "cell_type": "code",
   "execution_count": 81,
   "metadata": {},
   "outputs": [
    {
     "data": {
      "text/plain": [
       "pandas.core.frame.DataFrame"
      ]
     },
     "execution_count": 81,
     "metadata": {},
     "output_type": "execute_result"
    }
   ],
   "source": [
    "type(messages[messages.dayofweek=='Monday'])"
   ]
  },
  {
   "cell_type": "code",
   "execution_count": null,
   "metadata": {},
   "outputs": [],
   "source": []
  }
 ],
 "metadata": {
  "kernelspec": {
   "display_name": "Python 3",
   "language": "python",
   "name": "python3"
  },
  "language_info": {
   "codemirror_mode": {
    "name": "ipython",
    "version": 3
   },
   "file_extension": ".py",
   "mimetype": "text/x-python",
   "name": "python",
   "nbconvert_exporter": "python",
   "pygments_lexer": "ipython3",
   "version": "3.7.4"
  },
  "toc": {
   "base_numbering": 1,
   "nav_menu": {},
   "number_sections": true,
   "sideBar": true,
   "skip_h1_title": false,
   "title_cell": "Table of Contents",
   "title_sidebar": "Contents",
   "toc_cell": false,
   "toc_position": {},
   "toc_section_display": true,
   "toc_window_display": false
  }
 },
 "nbformat": 4,
 "nbformat_minor": 2
}
